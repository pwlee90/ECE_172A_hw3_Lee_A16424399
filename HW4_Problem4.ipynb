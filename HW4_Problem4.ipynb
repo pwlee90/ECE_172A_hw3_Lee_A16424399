{
 "cells": [
  {
   "cell_type": "code",
   "execution_count": null,
   "metadata": {},
   "outputs": [],
   "source": [
    "import os\n",
    "import pandas as pd\n",
    "import cv2\n",
    "import tensorflow.keras as keras\n",
    "import numpy as np\n",
    "from tensorflow.keras.layers import Dense, Dropout, Flatten, Input\n",
    "from tensorflow.keras.layers import Conv2D, MaxPooling2D\n",
    "from tensorflow.keras.layers import BatchNormalization\n",
    "from tensorflow.keras.optimizers import Adam\n",
    "from tensorflow.keras.models import Sequential\n",
    "\n",
    "data_dir = 'GTSRB-training_fixed\\GTSRB\\Training'"
   ]
  },
  {
   "cell_type": "code",
   "execution_count": null,
   "metadata": {},
   "outputs": [],
   "source": [
    "def preprocess(img):\n",
    "    return cv2.resize(img, (64, 64), interpolation = cv2.INTER_AREA)"
   ]
  },
  {
   "cell_type": "code",
   "execution_count": null,
   "metadata": {},
   "outputs": [],
   "source": [
    "list_images = []\n",
    "output = []\n",
    "\n",
    "for dir in os.listdir(data_dir):\n",
    "    i = 0\n",
    "    if dir == '.DS_Store' :\n",
    "        continue\n",
    "    inner_dir = os.path.join(data_dir, dir)\n",
    "    csv_file = pd.read_csv(os.path.join(inner_dir,\"GT-\" + dir + '.csv'), sep=';')\n",
    "    for row in csv_file.iterrows():\n",
    "        if i < 100:\n",
    "            img_path = os.path.join(inner_dir, row[1].Filename)\n",
    "            img = cv2.imread(img_path)\n",
    "            img = img[row[1]['Roi.X1']:row[1]['Roi.X2'],row[1]['Roi.Y1']:row[1]['Roi.Y2'],:]\n",
    "            img = preprocess(img)\n",
    "            list_images.append(img)\n",
    "            output.append(row[1].ClassId)\n",
    "        i += 1"
   ]
  },
  {
   "cell_type": "code",
   "execution_count": null,
   "metadata": {},
   "outputs": [],
   "source": [
    "input_array = np.stack(list_images)\n",
    "train_y = keras.utils.to_categorical(output)\n",
    "\n",
    "randomize = np.arange(len(input_array))\n",
    "np.random.shuffle(randomize)\n",
    "\n",
    "x = input_array[randomize]\n",
    "y = train_y[randomize]"
   ]
  },
  {
   "cell_type": "code",
   "execution_count": null,
   "metadata": {},
   "outputs": [],
   "source": [
    "split_size = int(x.shape[0]*0.6)\n",
    "train_x, val_x = x[:split_size], x[split_size:]\n",
    "train1_y, val_y = y[:split_size], y[split_size:]\n",
    "\n",
    "split_size = int(val_x.shape[0]*0.5)\n",
    "val_x, test_x = val_x[:split_size], val_x[split_size:]\n",
    "val_y, test_y = val_y[:split_size], val_y[split_size:]"
   ]
  },
  {
   "cell_type": "code",
   "execution_count": null,
   "metadata": {},
   "outputs": [],
   "source": [
    "epochs = 10\n",
    "batch_size = 16\n",
    "\n",
    "input_shape = Input(shape=(32, 32,3))\n",
    "\n",
    "model = Sequential([\n",
    "    Conv2D(16, (3, 3), activation='relu', input_shape=(64,64,3), padding='same'),\n",
    "    Conv2D(16, (3, 3), activation='relu', padding='same'),\n",
    "    MaxPooling2D(pool_size=(2, 2)),\n",
    "    \n",
    "    Conv2D(32, (3, 3), activation='relu', padding='same'),\n",
    "    \n",
    "    Conv2D(32, (3, 3), activation='relu', padding='same'),\n",
    "    MaxPooling2D(pool_size=(2, 2)),\n",
    "    \n",
    "    Conv2D(64, (3, 3), activation='relu', padding='same'),\n",
    "\n",
    "    Conv2D(64, (3, 3), activation='relu', padding='same'),\n",
    "    MaxPooling2D(pool_size=(2, 2)),\n",
    "    \n",
    "    Flatten(),\n",
    "    Dense(units=2048, activation='relu'),\n",
    "    Dense(units=1024, activation='relu'),\n",
    "    Dense(units=128, activation='relu'),\n",
    "    Dense(units=43, input_dim=2048, activation='softmax'),\n",
    "])\n",
    "\n",
    "model.compile(loss='categorical_crossentropy', optimizer=Adam(lr=1e-4), metrics=['accuracy'])\n",
    "trained_model_conv = model.fit(train_x.reshape(-1,64,64,3), train1_y, epochs=epochs, batch_size=batch_size, validation_data=(val_x, val_y))"
   ]
  },
  {
   "cell_type": "code",
   "execution_count": null,
   "metadata": {},
   "outputs": [],
   "source": [
    "model.evaluate(test_x, test_y)"
   ]
  },
  {
   "cell_type": "code",
   "execution_count": null,
   "metadata": {},
   "outputs": [],
   "source": []
  }
 ],
 "metadata": {
  "kernelspec": {
   "display_name": "Python 3 (ipykernel)",
   "language": "python",
   "name": "python3"
  },
  "language_info": {
   "codemirror_mode": {
    "name": "ipython",
    "version": 3
   },
   "file_extension": ".py",
   "mimetype": "text/x-python",
   "name": "python",
   "nbconvert_exporter": "python",
   "pygments_lexer": "ipython3",
   "version": "3.7.11"
  }
 },
 "nbformat": 4,
 "nbformat_minor": 4
}
